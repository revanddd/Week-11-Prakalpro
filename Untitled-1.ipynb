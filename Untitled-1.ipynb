{
 "cells": [
  {
   "cell_type": "code",
   "execution_count": 1,
   "metadata": {},
   "outputs": [
    {
     "name": "stdout",
     "output_type": "stream",
     "text": [
      "key  value  item\n",
      "1    10    1\n",
      "2    20    2\n",
      "3    30    3\n",
      "4    40    4\n",
      "5    50    5\n",
      "6    60    6\n"
     ]
    }
   ],
   "source": [
    "dictionary = {1: 10, 2: 20, 3: 30, 4: 40, 5: 50, 6: 60}\n",
    "\n",
    "print(\"key  value  item\")\n",
    "for key, value in dictionary.items():\n",
    "    print(f\"{key}    {value}    {key}\")\n"
   ]
  },
  {
   "cell_type": "code",
   "execution_count": 2,
   "metadata": {},
   "outputs": [
    {
     "name": "stdout",
     "output_type": "stream",
     "text": [
      "{'blue': '#0000FF', 'green': '#008000', 'red': '#FF0000'}\n"
     ]
    }
   ],
   "source": [
    "lista = ['red', 'green', 'blue']\n",
    "listb = ['#FF0000', '#008000', '#0000FF']\n",
    "\n",
    "result_dict = dict(sorted(zip(lista, listb)))\n",
    "\n",
    "print(result_dict)"
   ]
  },
  {
   "cell_type": "code",
   "execution_count": 3,
   "metadata": {},
   "outputs": [
    {
     "name": "stdout",
     "output_type": "stream",
     "text": [
      "{'stephen.marquard@uct.ac.za': 2, 'louis@media.berkeley.edu': 3, 'zqian@umich.edu': 4, 'rjlowe@iupui.edu': 2, 'cwen@iupui.edu': 5, 'gsilver@umich.edu': 3, 'wagnermr@iupui.edu': 1, 'antranig@caret.cam.ac.uk': 1, 'gopal.ramasammycook@gmail.com': 1, 'david.horwitz@uct.ac.za': 4, 'ray@media.berkeley.edu': 1}\n"
     ]
    }
   ],
   "source": [
    "email_counts = {}\n",
    "\n",
    "with open(\"mbox-short.txt\", \"r\") as file:\n",
    "    for line in file:\n",
    "        if line.startswith(\"From \"):\n",
    "            sender_email = line.split()[1]\n",
    "            email_counts[sender_email] = email_counts.get(sender_email, 0) + 1\n",
    "\n",
    "print(email_counts)"
   ]
  },
  {
   "cell_type": "code",
   "execution_count": 4,
   "metadata": {},
   "outputs": [
    {
     "name": "stdout",
     "output_type": "stream",
     "text": [
      "{'uct.ac.za': 6, 'media.berkeley.edu': 4, 'umich.edu': 7, 'iupui.edu': 8, 'caret.cam.ac.uk': 1, 'gmail.com': 1}\n"
     ]
    }
   ],
   "source": [
    "domain_counts = {}\n",
    "\n",
    "with open(\"mbox-short.txt\", \"r\") as file:\n",
    "    for line in file:\n",
    "        if line.startswith(\"From \"):\n",
    "\n",
    "            sender_email = line.split()[1]\n",
    "\n",
    "            domain = sender_email.split(\"@\")[1]\n",
    "\n",
    "            domain_counts[domain] = domain_counts.get(domain, 0) + 1\n",
    "\n",
    "print(domain_counts)"
   ]
  }
 ],
 "metadata": {
  "kernelspec": {
   "display_name": "Python 3",
   "language": "python",
   "name": "python3"
  },
  "language_info": {
   "codemirror_mode": {
    "name": "ipython",
    "version": 3
   },
   "file_extension": ".py",
   "mimetype": "text/x-python",
   "name": "python",
   "nbconvert_exporter": "python",
   "pygments_lexer": "ipython3",
   "version": "3.12.0"
  }
 },
 "nbformat": 4,
 "nbformat_minor": 2
}
